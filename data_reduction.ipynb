{
 "cells": [
  {
   "cell_type": "code",
   "execution_count": 1,
   "metadata": {},
   "outputs": [],
   "source": [
    "import pandas as pd"
   ]
  },
  {
   "cell_type": "code",
   "execution_count": 2,
   "metadata": {},
   "outputs": [
    {
     "name": "stdout",
     "output_type": "stream",
     "text": [
      "<class 'pandas.core.frame.DataFrame'>\n",
      "RangeIndex: 523564 entries, 0 to 523563\n",
      "Data columns (total 11 columns):\n",
      "TipusCasData           523564 non-null object\n",
      "ComarcaCodi            519389 non-null float64\n",
      "ComarcaDescripcio      519389 non-null object\n",
      "MunicipiCodi           519389 non-null float64\n",
      "MunicipiDescripcio     523564 non-null object\n",
      "DistricteCodi          40648 non-null float64\n",
      "DistricteDescripcio    523564 non-null object\n",
      "SexeCodi               521364 non-null float64\n",
      "SexeDescripcio         523564 non-null object\n",
      "TipusCasDescripcio     523564 non-null object\n",
      "NumCasos               523564 non-null int64\n",
      "dtypes: float64(4), int64(1), object(6)\n",
      "memory usage: 43.9+ MB\n"
     ]
    }
   ],
   "source": [
    "df_casos_cat = pd.read_csv(\"Registre_de_casos_de_COVID-19_a_Catalunya_per_municipi_i_sexe.csv\")\n",
    "df_casos_cat.info()"
   ]
  },
  {
   "cell_type": "code",
   "execution_count": 3,
   "metadata": {},
   "outputs": [
    {
     "name": "stdout",
     "output_type": "stream",
     "text": [
      "<class 'pandas.core.frame.DataFrame'>\n",
      "RangeIndex: 523564 entries, 0 to 523563\n",
      "Data columns (total 7 columns):\n",
      "TipusCasData           523564 non-null object\n",
      "ComarcaDescripcio      519389 non-null object\n",
      "MunicipiDescripcio     523564 non-null object\n",
      "DistricteDescripcio    523564 non-null object\n",
      "SexeDescripcio         523564 non-null object\n",
      "TipusCasDescripcio     523564 non-null object\n",
      "NumCasos               523564 non-null int64\n",
      "dtypes: int64(1), object(6)\n",
      "memory usage: 28.0+ MB\n"
     ]
    }
   ],
   "source": [
    "df_casos_cat = df_casos_cat.drop(columns=[\"ComarcaCodi\", \"MunicipiCodi\", \"DistricteCodi\", \"SexeCodi\"])\n",
    "df_casos_cat.info()"
   ]
  },
  {
   "cell_type": "code",
   "execution_count": 4,
   "metadata": {},
   "outputs": [
    {
     "data": {
      "text/html": [
       "<div>\n",
       "<style scoped>\n",
       "    .dataframe tbody tr th:only-of-type {\n",
       "        vertical-align: middle;\n",
       "    }\n",
       "\n",
       "    .dataframe tbody tr th {\n",
       "        vertical-align: top;\n",
       "    }\n",
       "\n",
       "    .dataframe thead th {\n",
       "        text-align: right;\n",
       "    }\n",
       "</style>\n",
       "<table border=\"1\" class=\"dataframe\">\n",
       "  <thead>\n",
       "    <tr style=\"text-align: right;\">\n",
       "      <th></th>\n",
       "      <th>TipusCasData</th>\n",
       "      <th>ComarcaDescripcio</th>\n",
       "      <th>MunicipiDescripcio</th>\n",
       "      <th>DistricteDescripcio</th>\n",
       "      <th>SexeDescripcio</th>\n",
       "      <th>TipusCasDescripcio</th>\n",
       "      <th>NumCasos</th>\n",
       "    </tr>\n",
       "  </thead>\n",
       "  <tbody>\n",
       "    <tr>\n",
       "      <th>0</th>\n",
       "      <td>08/10/2020</td>\n",
       "      <td>MARESME</td>\n",
       "      <td>MATARÓ</td>\n",
       "      <td>No classificat</td>\n",
       "      <td>Dona</td>\n",
       "      <td>Positiu per Test Ràpid</td>\n",
       "      <td>1</td>\n",
       "    </tr>\n",
       "    <tr>\n",
       "      <th>1</th>\n",
       "      <td>05/07/2022</td>\n",
       "      <td>NOGUERA</td>\n",
       "      <td>VALLFOGONA DE BALAGUER</td>\n",
       "      <td>No classificat</td>\n",
       "      <td>Dona</td>\n",
       "      <td>Positiu TAR</td>\n",
       "      <td>2</td>\n",
       "    </tr>\n",
       "    <tr>\n",
       "      <th>2</th>\n",
       "      <td>12/06/2020</td>\n",
       "      <td>BAGES</td>\n",
       "      <td>SALLENT</td>\n",
       "      <td>No classificat</td>\n",
       "      <td>Dona</td>\n",
       "      <td>Positiu per Test Ràpid</td>\n",
       "      <td>1</td>\n",
       "    </tr>\n",
       "    <tr>\n",
       "      <th>3</th>\n",
       "      <td>13/01/2022</td>\n",
       "      <td>OSONA</td>\n",
       "      <td>CALLDETENES</td>\n",
       "      <td>No classificat</td>\n",
       "      <td>Dona</td>\n",
       "      <td>Positiu PCR</td>\n",
       "      <td>1</td>\n",
       "    </tr>\n",
       "    <tr>\n",
       "      <th>4</th>\n",
       "      <td>11/06/2022</td>\n",
       "      <td>VALLES OCCIDENTAL</td>\n",
       "      <td>TERRASSA</td>\n",
       "      <td>No classificat</td>\n",
       "      <td>Home</td>\n",
       "      <td>Positiu TAR</td>\n",
       "      <td>10</td>\n",
       "    </tr>\n",
       "  </tbody>\n",
       "</table>\n",
       "</div>"
      ],
      "text/plain": [
       "  TipusCasData  ComarcaDescripcio      MunicipiDescripcio DistricteDescripcio  \\\n",
       "0   08/10/2020            MARESME                  MATARÓ      No classificat   \n",
       "1   05/07/2022            NOGUERA  VALLFOGONA DE BALAGUER      No classificat   \n",
       "2   12/06/2020              BAGES                 SALLENT      No classificat   \n",
       "3   13/01/2022              OSONA             CALLDETENES      No classificat   \n",
       "4   11/06/2022  VALLES OCCIDENTAL                TERRASSA      No classificat   \n",
       "\n",
       "  SexeDescripcio      TipusCasDescripcio  NumCasos  \n",
       "0           Dona  Positiu per Test Ràpid         1  \n",
       "1           Dona             Positiu TAR         2  \n",
       "2           Dona  Positiu per Test Ràpid         1  \n",
       "3           Dona             Positiu PCR         1  \n",
       "4           Home             Positiu TAR        10  "
      ]
     },
     "execution_count": 4,
     "metadata": {},
     "output_type": "execute_result"
    }
   ],
   "source": [
    "df_casos_cat.head()"
   ]
  },
  {
   "cell_type": "code",
   "execution_count": 5,
   "metadata": {},
   "outputs": [
    {
     "data": {
      "text/plain": [
       "{'BADALONA',\n",
       " 'BARCELONA',\n",
       " \"L'HOSPITALET DE LLOBREGAT\",\n",
       " 'SANT ADRIÀ DE BESÒS',\n",
       " 'SANTA COLOMA DE GRAMENET'}"
      ]
     },
     "execution_count": 5,
     "metadata": {},
     "output_type": "execute_result"
    }
   ],
   "source": [
    "df_casos_barcelones =df_casos_cat.loc[df_casos_cat.ComarcaDescripcio == \"BARCELONES\"]\n",
    "\n",
    "set(df_casos_barcelones[\"MunicipiDescripcio\"])"
   ]
  },
  {
   "cell_type": "code",
   "execution_count": 6,
   "metadata": {},
   "outputs": [
    {
     "name": "stdout",
     "output_type": "stream",
     "text": [
      "<class 'pandas.core.frame.DataFrame'>\n",
      "Int64Index: 55798 entries, 12 to 523562\n",
      "Data columns (total 7 columns):\n",
      "TipusCasData           55798 non-null object\n",
      "ComarcaDescripcio      55798 non-null object\n",
      "MunicipiDescripcio     55798 non-null object\n",
      "DistricteDescripcio    55798 non-null object\n",
      "SexeDescripcio         55798 non-null object\n",
      "TipusCasDescripcio     55798 non-null object\n",
      "NumCasos               55798 non-null int64\n",
      "dtypes: int64(1), object(6)\n",
      "memory usage: 3.4+ MB\n"
     ]
    }
   ],
   "source": [
    "df_casos_barcelones.info()"
   ]
  },
  {
   "cell_type": "code",
   "execution_count": 7,
   "metadata": {},
   "outputs": [
    {
     "name": "stdout",
     "output_type": "stream",
     "text": [
      "<class 'pandas.core.frame.DataFrame'>\n",
      "Int64Index: 55798 entries, 12 to 523562\n",
      "Data columns (total 6 columns):\n",
      "TipusCasData           55798 non-null object\n",
      "MunicipiDescripcio     55798 non-null object\n",
      "DistricteDescripcio    55798 non-null object\n",
      "SexeDescripcio         55798 non-null object\n",
      "TipusCasDescripcio     55798 non-null object\n",
      "NumCasos               55798 non-null int64\n",
      "dtypes: int64(1), object(5)\n",
      "memory usage: 3.0+ MB\n"
     ]
    }
   ],
   "source": [
    "df_casos_barcelones.drop(columns=\"ComarcaDescripcio\").info()"
   ]
  },
  {
   "cell_type": "code",
   "execution_count": 8,
   "metadata": {},
   "outputs": [
    {
     "data": {
      "text/html": [
       "<div>\n",
       "<style scoped>\n",
       "    .dataframe tbody tr th:only-of-type {\n",
       "        vertical-align: middle;\n",
       "    }\n",
       "\n",
       "    .dataframe tbody tr th {\n",
       "        vertical-align: top;\n",
       "    }\n",
       "\n",
       "    .dataframe thead th {\n",
       "        text-align: right;\n",
       "    }\n",
       "</style>\n",
       "<table border=\"1\" class=\"dataframe\">\n",
       "  <thead>\n",
       "    <tr style=\"text-align: right;\">\n",
       "      <th></th>\n",
       "      <th>TipusCasData</th>\n",
       "      <th>MunicipiDescripcio</th>\n",
       "      <th>SexeDescripcio</th>\n",
       "      <th>TipusCasDescripcio</th>\n",
       "      <th>NumCasos</th>\n",
       "    </tr>\n",
       "  </thead>\n",
       "  <tbody>\n",
       "    <tr>\n",
       "      <th>12</th>\n",
       "      <td>15/04/2020</td>\n",
       "      <td>BARCELONA</td>\n",
       "      <td>Home</td>\n",
       "      <td>PCR probable</td>\n",
       "      <td>1</td>\n",
       "    </tr>\n",
       "    <tr>\n",
       "      <th>23</th>\n",
       "      <td>12/06/2022</td>\n",
       "      <td>BADALONA</td>\n",
       "      <td>Home</td>\n",
       "      <td>Positiu TAR</td>\n",
       "      <td>4</td>\n",
       "    </tr>\n",
       "    <tr>\n",
       "      <th>32</th>\n",
       "      <td>28/10/2020</td>\n",
       "      <td>BARCELONA</td>\n",
       "      <td>Home</td>\n",
       "      <td>Positiu per Test Ràpid</td>\n",
       "      <td>1</td>\n",
       "    </tr>\n",
       "    <tr>\n",
       "      <th>35</th>\n",
       "      <td>09/11/2021</td>\n",
       "      <td>BARCELONA</td>\n",
       "      <td>Home</td>\n",
       "      <td>Positiu PCR</td>\n",
       "      <td>5</td>\n",
       "    </tr>\n",
       "    <tr>\n",
       "      <th>41</th>\n",
       "      <td>12/03/2022</td>\n",
       "      <td>L'HOSPITALET DE LLOBREGAT</td>\n",
       "      <td>Home</td>\n",
       "      <td>Positiu PCR</td>\n",
       "      <td>1</td>\n",
       "    </tr>\n",
       "  </tbody>\n",
       "</table>\n",
       "</div>"
      ],
      "text/plain": [
       "   TipusCasData         MunicipiDescripcio SexeDescripcio  \\\n",
       "12   15/04/2020                  BARCELONA           Home   \n",
       "23   12/06/2022                   BADALONA           Home   \n",
       "32   28/10/2020                  BARCELONA           Home   \n",
       "35   09/11/2021                  BARCELONA           Home   \n",
       "41   12/03/2022  L'HOSPITALET DE LLOBREGAT           Home   \n",
       "\n",
       "        TipusCasDescripcio  NumCasos  \n",
       "12            PCR probable         1  \n",
       "23             Positiu TAR         4  \n",
       "32  Positiu per Test Ràpid         1  \n",
       "35             Positiu PCR         5  \n",
       "41             Positiu PCR         1  "
      ]
     },
     "execution_count": 8,
     "metadata": {},
     "output_type": "execute_result"
    }
   ],
   "source": [
    "df_casos_barcelones = df_casos_barcelones.drop(columns=[\"ComarcaDescripcio\", \"DistricteDescripcio\"])\n",
    "df_casos_barcelones.head()"
   ]
  },
  {
   "cell_type": "code",
   "execution_count": 9,
   "metadata": {},
   "outputs": [
    {
     "name": "stdout",
     "output_type": "stream",
     "text": [
      "<class 'pandas.core.frame.DataFrame'>\n",
      "Int64Index: 55798 entries, 12 to 523562\n",
      "Data columns (total 5 columns):\n",
      "TipusCasData          55798 non-null object\n",
      "MunicipiDescripcio    55798 non-null object\n",
      "SexeDescripcio        55798 non-null object\n",
      "TipusCasDescripcio    55798 non-null object\n",
      "NumCasos              55798 non-null int64\n",
      "dtypes: int64(1), object(4)\n",
      "memory usage: 2.6+ MB\n"
     ]
    }
   ],
   "source": [
    "df_casos_barcelones.info()"
   ]
  },
  {
   "cell_type": "code",
   "execution_count": 10,
   "metadata": {},
   "outputs": [
    {
     "name": "stdout",
     "output_type": "stream",
     "text": [
      "<class 'pandas.core.frame.DataFrame'>\n",
      "Int64Index: 21722 entries, 0 to 21721\n",
      "Data columns (total 5 columns):\n",
      "TipusCasData          21722 non-null object\n",
      "MunicipiDescripcio    21722 non-null object\n",
      "SexeDescripcio        21722 non-null object\n",
      "TipusCasDescripcio    21722 non-null object\n",
      "NumCasos              21722 non-null int64\n",
      "dtypes: int64(1), object(4)\n",
      "memory usage: 1018.2+ KB\n"
     ]
    }
   ],
   "source": [
    "df_barcelones_towns = df_casos_barcelones.groupby(\n",
    "    by=[\"TipusCasData\",\t\"MunicipiDescripcio\",\n",
    "        \"SexeDescripcio\", \"TipusCasDescripcio\"],\n",
    "        as_index=False).sum()\n",
    "\n",
    "df_barcelones_towns.info()"
   ]
  },
  {
   "cell_type": "code",
   "execution_count": 11,
   "metadata": {},
   "outputs": [],
   "source": [
    "df_barcelones_towns.to_csv(\"Registre_de_casos_de_COVID-19_Barcelones_per_sexe.csv\", index=False)"
   ]
  },
  {
   "cell_type": "code",
   "execution_count": 12,
   "metadata": {},
   "outputs": [
    {
     "data": {
      "text/html": [
       "<div>\n",
       "<style scoped>\n",
       "    .dataframe tbody tr th:only-of-type {\n",
       "        vertical-align: middle;\n",
       "    }\n",
       "\n",
       "    .dataframe tbody tr th {\n",
       "        vertical-align: top;\n",
       "    }\n",
       "\n",
       "    .dataframe thead th {\n",
       "        text-align: right;\n",
       "    }\n",
       "</style>\n",
       "<table border=\"1\" class=\"dataframe\">\n",
       "  <thead>\n",
       "    <tr style=\"text-align: right;\">\n",
       "      <th></th>\n",
       "      <th>TipusCasData</th>\n",
       "      <th>MunicipiDescripcio</th>\n",
       "      <th>SexeDescripcio</th>\n",
       "      <th>TipusCasDescripcio</th>\n",
       "      <th>NumCasos</th>\n",
       "    </tr>\n",
       "  </thead>\n",
       "  <tbody>\n",
       "    <tr>\n",
       "      <th>0</th>\n",
       "      <td>01/01/2021</td>\n",
       "      <td>BADALONA</td>\n",
       "      <td>Dona</td>\n",
       "      <td>Positiu PCR</td>\n",
       "      <td>5</td>\n",
       "    </tr>\n",
       "    <tr>\n",
       "      <th>1</th>\n",
       "      <td>01/01/2021</td>\n",
       "      <td>BADALONA</td>\n",
       "      <td>Dona</td>\n",
       "      <td>Positiu TAR</td>\n",
       "      <td>12</td>\n",
       "    </tr>\n",
       "    <tr>\n",
       "      <th>2</th>\n",
       "      <td>01/01/2021</td>\n",
       "      <td>BADALONA</td>\n",
       "      <td>Dona</td>\n",
       "      <td>Positiu per ELISA</td>\n",
       "      <td>1</td>\n",
       "    </tr>\n",
       "    <tr>\n",
       "      <th>3</th>\n",
       "      <td>01/01/2021</td>\n",
       "      <td>BADALONA</td>\n",
       "      <td>Home</td>\n",
       "      <td>Positiu PCR</td>\n",
       "      <td>4</td>\n",
       "    </tr>\n",
       "    <tr>\n",
       "      <th>4</th>\n",
       "      <td>01/01/2021</td>\n",
       "      <td>BADALONA</td>\n",
       "      <td>Home</td>\n",
       "      <td>Positiu TAR</td>\n",
       "      <td>18</td>\n",
       "    </tr>\n",
       "  </tbody>\n",
       "</table>\n",
       "</div>"
      ],
      "text/plain": [
       "  TipusCasData MunicipiDescripcio SexeDescripcio TipusCasDescripcio  NumCasos\n",
       "0   01/01/2021           BADALONA           Dona        Positiu PCR         5\n",
       "1   01/01/2021           BADALONA           Dona        Positiu TAR        12\n",
       "2   01/01/2021           BADALONA           Dona  Positiu per ELISA         1\n",
       "3   01/01/2021           BADALONA           Home        Positiu PCR         4\n",
       "4   01/01/2021           BADALONA           Home        Positiu TAR        18"
      ]
     },
     "execution_count": 12,
     "metadata": {},
     "output_type": "execute_result"
    }
   ],
   "source": [
    "df_barcelones_towns.head()"
   ]
  }
 ],
 "metadata": {
  "kernelspec": {
   "display_name": "Python 3",
   "language": "python",
   "name": "python3"
  },
  "language_info": {
   "codemirror_mode": {
    "name": "ipython",
    "version": 3
   },
   "file_extension": ".py",
   "mimetype": "text/x-python",
   "name": "python",
   "nbconvert_exporter": "python",
   "pygments_lexer": "ipython3",
   "version": "3.6.6"
  },
  "orig_nbformat": 4
 },
 "nbformat": 4,
 "nbformat_minor": 2
}
